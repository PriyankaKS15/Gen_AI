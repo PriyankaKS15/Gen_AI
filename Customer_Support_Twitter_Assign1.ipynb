{
  "cells": [
    {
      "cell_type": "markdown",
      "metadata": {
        "id": "view-in-github",
        "colab_type": "text"
      },
      "source": [
        "<a href=\"https://colab.research.google.com/github/PriyankaKS15/Gen_AI/blob/main/Customer_Support_Twitter_Assign1.ipynb\" target=\"_parent\"><img src=\"https://colab.research.google.com/assets/colab-badge.svg\" alt=\"Open In Colab\"/></a>"
      ]
    },
    {
      "cell_type": "code",
      "execution_count": null,
      "metadata": {
        "id": "fjv_HeEXrSB-"
      },
      "outputs": [],
      "source": [
        "import pandas as pd\n",
        "import string\n",
        "import re\n",
        "import nltk\n",
        "from nltk.corpus import stopwords\n",
        "from nltk.stem import WordNetLemmatizer\n",
        "#from nltk.stem import PorterStemmer\n",
        "stop_words = stopwords.words('english')"
      ]
    },
    {
      "cell_type": "code",
      "execution_count": null,
      "metadata": {
        "id": "MiHxVGIFra63"
      },
      "outputs": [],
      "source": [
        "df = pd.read_csv(\"/content/twcs.csv\", on_bad_lines='skip')"
      ]
    },
    {
      "cell_type": "markdown",
      "metadata": {
        "id": "DofP0e224urN"
      },
      "source": [
        "**Removing punctuation Marks**"
      ]
    },
    {
      "cell_type": "code",
      "execution_count": null,
      "metadata": {
        "id": "BeokFmEP4k3o"
      },
      "outputs": [],
      "source": [
        "exclude = string.punctuation\n",
        "\n",
        "\n",
        "def remove_punc(text):\n",
        "    for char in exclude:\n",
        "        text=str(text).replace(char,\"\")\n",
        "    return text\n",
        "\n",
        "df['text']= df['text'].apply(remove_punc)"
      ]
    },
    {
      "cell_type": "markdown",
      "metadata": {
        "id": "cTMLEiNNmGO8"
      },
      "source": [
        "**Remove Slang Words**"
      ]
    },
    {
      "cell_type": "code",
      "execution_count": null,
      "metadata": {
        "colab": {
          "base_uri": "https://localhost:8080/"
        },
        "id": "oDEFphp3l16o",
        "outputId": "7678f512-38c0-484a-8afc-8394bfd8eb18"
      },
      "outputs": [
        {
          "data": {
            "text/plain": [
              "{'$': ' dollar ',\n",
              " '€': ' euro ',\n",
              " '4AO': 'for adults only',\n",
              " 'A.M': 'before midday',\n",
              " 'A3': 'anytime anywhere anyplace',\n",
              " 'AAMOF': 'as a matter of fact',\n",
              " 'ACCT': 'account',\n",
              " 'ADIH': 'another day in hell',\n",
              " 'AFAIC': 'as far as i am concerned',\n",
              " 'AFAICT': 'as far as i can tell',\n",
              " 'AFAIK': 'as far as i know',\n",
              " 'AFAIR': 'as far as i remember',\n",
              " 'AFK': 'away from keyboard',\n",
              " 'APP': 'application',\n",
              " 'APPROX': 'approximately',\n",
              " 'APPS': 'applications',\n",
              " 'ASAP': 'as soon as possible',\n",
              " 'ASL': 'age, sex, location',\n",
              " 'ATK': 'at the keyboard',\n",
              " 'AVE.': 'avenue',\n",
              " 'AYMM': 'are you my mother',\n",
              " 'AYOR': 'at your own risk',\n",
              " 'B&B': 'bed and breakfast',\n",
              " 'B+B': 'bed and breakfast',\n",
              " 'B.C': 'before christ',\n",
              " 'B2B': 'business to business',\n",
              " 'B2C': 'business to customer',\n",
              " 'B4': 'before',\n",
              " 'B4N': 'bye for now',\n",
              " 'B@U': 'back at you',\n",
              " 'BAE': 'before anyone else',\n",
              " 'BAK': 'back at keyboard',\n",
              " 'BBBG': 'bye bye be good',\n",
              " 'BBC': 'british broadcasting corporation',\n",
              " 'BBIAS': 'be back in a second',\n",
              " 'BBL': 'be back later',\n",
              " 'BBS': 'be back soon',\n",
              " 'BE4': 'before',\n",
              " 'BFN': 'bye for now',\n",
              " 'BLVD': 'boulevard',\n",
              " 'BOUT': 'about',\n",
              " 'BRB': 'be right back',\n",
              " 'BROS': 'brothers',\n",
              " 'BRT': 'be right there',\n",
              " 'BSAAW': 'big smile and a wink',\n",
              " 'BTW': 'by the way',\n",
              " 'BWL': 'bursting with laughter',\n",
              " 'C/O': 'care of',\n",
              " 'CET': 'central european time',\n",
              " 'CF': 'compare',\n",
              " 'CIA': 'central intelligence agency',\n",
              " 'CSL': 'can not stop laughing',\n",
              " 'CU': 'see you',\n",
              " 'CUL8R': 'see you later',\n",
              " 'CV': 'curriculum vitae',\n",
              " 'CWOT': 'complete waste of time',\n",
              " 'CYA': 'see you',\n",
              " 'CYT': 'see you tomorrow',\n",
              " 'DAE': 'does anyone else',\n",
              " 'DBMIB': 'do not bother me i am busy',\n",
              " 'DIY': 'do it yourself',\n",
              " 'DM': 'direct message',\n",
              " 'DWH': 'during work hours',\n",
              " 'E123': 'easy as one two three',\n",
              " 'EET': 'eastern european time',\n",
              " 'EG': 'example',\n",
              " 'EMBM': 'early morning business meeting',\n",
              " 'ENCL': 'enclosed',\n",
              " 'ENCL.': 'enclosed',\n",
              " 'ETC': 'and so on',\n",
              " 'FAQ': 'frequently asked questions',\n",
              " 'FAWC': 'for anyone who cares',\n",
              " 'FB': 'facebook',\n",
              " 'FC': 'fingers crossed',\n",
              " 'FIG': 'figure',\n",
              " 'FIMH': 'forever in my heart',\n",
              " 'FT.': 'feet',\n",
              " 'FT': 'featuring',\n",
              " 'FTL': 'for the loss',\n",
              " 'FTW': 'for the win',\n",
              " 'FWIW': 'for what it is worth',\n",
              " 'FYI': 'for your information',\n",
              " 'G9': 'genius',\n",
              " 'GAHOY': 'get a hold of yourself',\n",
              " 'GAL': 'get a life',\n",
              " 'GCSE': 'general certificate of secondary education',\n",
              " 'GFN': 'gone for now',\n",
              " 'GG': 'good game',\n",
              " 'GL': 'good luck',\n",
              " 'GLHF': 'good luck have fun',\n",
              " 'GMT': 'greenwich mean time',\n",
              " 'GMTA': 'great minds think alike',\n",
              " 'GN': 'good night',\n",
              " 'G.O.A.T': 'greatest of all time',\n",
              " 'GOAT': 'greatest of all time',\n",
              " 'GOI': 'get over it',\n",
              " 'GPS': 'global positioning system',\n",
              " 'GR8': 'great',\n",
              " 'GRATZ': 'congratulations',\n",
              " 'GYAL': 'girl',\n",
              " 'H&C': 'hot and cold',\n",
              " 'HP': 'horsepower',\n",
              " 'HR': 'hour',\n",
              " 'HRH': 'his royal highness',\n",
              " 'HT': 'height',\n",
              " 'IBRB': 'i will be right back',\n",
              " 'IC': 'i see',\n",
              " 'ICQ': 'i seek you',\n",
              " 'ICYMI': 'in case you missed it',\n",
              " 'IDC': 'i do not care',\n",
              " 'IDGADF': 'i do not give a damn fuck',\n",
              " 'IDGAF': 'i do not give a fuck',\n",
              " 'IDK': 'i do not know',\n",
              " 'IE': 'that is',\n",
              " 'I.E': 'that is',\n",
              " 'IFYP': 'i feel your pain',\n",
              " 'IG': 'instagram',\n",
              " 'IIRC': 'if i remember correctly',\n",
              " 'ILU': 'i love you',\n",
              " 'ILY': 'i love you',\n",
              " 'IMHO': 'in my humble opinion',\n",
              " 'IMO': 'in my opinion',\n",
              " 'IMU': 'i miss you',\n",
              " 'IOW': 'in other words',\n",
              " 'IRL': 'in real life',\n",
              " 'J4F': 'just for fun',\n",
              " 'JIC': 'just in case',\n",
              " 'JK': 'just kidding',\n",
              " 'JSYK': 'just so you know',\n",
              " 'L8R': 'later',\n",
              " 'LB': 'pound',\n",
              " 'LBS': 'pounds',\n",
              " 'LDR': 'long distance relationship',\n",
              " 'LMAO': 'laugh my ass off',\n",
              " 'LMFAO': 'laugh my fucking ass off',\n",
              " 'LOL': 'laughing out loud',\n",
              " 'LTD': 'limited',\n",
              " 'LTNS': 'long time no see',\n",
              " 'M8': 'mate',\n",
              " 'MF': 'motherfucker',\n",
              " 'MFS': 'motherfuckers',\n",
              " 'MFW': 'my face when',\n",
              " 'MOFO': 'motherfucker',\n",
              " 'MPH': 'miles per hour',\n",
              " 'MR': 'mister',\n",
              " 'MRW': 'my reaction when',\n",
              " 'MS': 'miss',\n",
              " 'MTE': 'my thoughts exactly',\n",
              " 'NAGI': 'not a good idea',\n",
              " 'NBC': 'national broadcasting company',\n",
              " 'NBD': 'not big deal',\n",
              " 'NFS': 'not for sale',\n",
              " 'NGL': 'not going to lie',\n",
              " 'NHS': 'national health service',\n",
              " 'NRN': 'no reply necessary',\n",
              " 'NSFL': 'not safe for life',\n",
              " 'NSFW': 'not safe for work',\n",
              " 'NTH': 'nice to have',\n",
              " 'NVR': 'never',\n",
              " 'NYC': 'new york city',\n",
              " 'OC': 'original content',\n",
              " 'OG': 'original',\n",
              " 'OHP': 'overhead projector',\n",
              " 'OIC': 'oh i see',\n",
              " 'OMDB': 'over my dead body',\n",
              " 'OMG': 'oh my god',\n",
              " 'OMW': 'on my way',\n",
              " 'P.A': 'per annum',\n",
              " 'P.M': 'after midday',\n",
              " 'PM': 'prime minister',\n",
              " 'POC': 'people of color',\n",
              " 'POV': 'point of view',\n",
              " 'PP': 'pages',\n",
              " 'PPL': 'people',\n",
              " 'PRW': 'parents are watching',\n",
              " 'PS': 'postscript',\n",
              " 'PT': 'point',\n",
              " 'PTB': 'please text back',\n",
              " 'PTO': 'please turn over',\n",
              " 'QPSA': 'what happens',\n",
              " 'RATCHET': 'rude',\n",
              " 'RBTL': 'read between the lines',\n",
              " 'RLRT': 'real life retweet',\n",
              " 'ROFL': 'rolling on the floor laughing',\n",
              " 'ROFLOL': 'rolling on the floor laughing out loud',\n",
              " 'ROTFLMAO': 'rolling on the floor laughing my ass off',\n",
              " 'RT': 'retweet',\n",
              " 'RUOK': 'are you ok',\n",
              " 'SFW': 'safe for work',\n",
              " 'SK8': 'skate',\n",
              " 'SMH': 'shake my head',\n",
              " 'SQ': 'square',\n",
              " 'SRSLY': 'seriously',\n",
              " 'SSDD': 'same stuff different day',\n",
              " 'TBH': 'to be honest',\n",
              " 'TBS': 'tablespooful',\n",
              " 'TBSP': 'tablespooful',\n",
              " 'TFW': 'that feeling when',\n",
              " 'THKS': 'thank you',\n",
              " 'THO': 'though',\n",
              " 'THX': 'thank you',\n",
              " 'TIA': 'thanks in advance',\n",
              " 'TIL': 'today i learned',\n",
              " 'TL;DR': 'too long i did not read',\n",
              " 'TLDR': 'too long i did not read',\n",
              " 'TMB': 'tweet me back',\n",
              " 'TNTL': 'trying not to laugh',\n",
              " 'TTYL': 'talk to you later',\n",
              " 'U': 'you',\n",
              " 'U2': 'you too',\n",
              " 'U4E': 'yours for ever',\n",
              " 'UTC': 'coordinated universal time',\n",
              " 'W/': 'with',\n",
              " 'W/O': 'without',\n",
              " 'W8': 'wait',\n",
              " 'WASSUP': 'what is up',\n",
              " 'WB': 'welcome back',\n",
              " 'WTF': 'what the fuck',\n",
              " 'WTG': 'way to go',\n",
              " 'WTPA': 'where the party at',\n",
              " 'WUF': 'where are you from',\n",
              " 'WUZUP': 'what is up',\n",
              " 'WYWH': 'wish you were here',\n",
              " 'YD': 'yard',\n",
              " 'YGTR': 'you got that right',\n",
              " 'YNK': 'you never know',\n",
              " 'ZZZ': 'sleeping bored and tired'}"
            ]
          },
          "execution_count": 67,
          "metadata": {},
          "output_type": "execute_result"
        }
      ],
      "source": [
        "abbreviations = {\n",
        "    \"$\" : \" dollar \",\n",
        "    \"€\" : \" euro \",\n",
        "    \"4ao\" : \"for adults only\",\n",
        "    \"a.m\" : \"before midday\",\n",
        "    \"a3\" : \"anytime anywhere anyplace\",\n",
        "    \"aamof\" : \"as a matter of fact\",\n",
        "    \"acct\" : \"account\",\n",
        "    \"adih\" : \"another day in hell\",\n",
        "    \"afaic\" : \"as far as i am concerned\",\n",
        "    \"afaict\" : \"as far as i can tell\",\n",
        "    \"afaik\" : \"as far as i know\",\n",
        "    \"afair\" : \"as far as i remember\",\n",
        "    \"afk\" : \"away from keyboard\",\n",
        "    \"app\" : \"application\",\n",
        "    \"approx\" : \"approximately\",\n",
        "    \"apps\" : \"applications\",\n",
        "    \"asap\" : \"as soon as possible\",\n",
        "    \"asl\" : \"age, sex, location\",\n",
        "    \"atk\" : \"at the keyboard\",\n",
        "    \"ave.\" : \"avenue\",\n",
        "    \"aymm\" : \"are you my mother\",\n",
        "    \"ayor\" : \"at your own risk\",\n",
        "    \"b&b\" : \"bed and breakfast\",\n",
        "    \"b+b\" : \"bed and breakfast\",\n",
        "    \"b.c\" : \"before christ\",\n",
        "    \"b2b\" : \"business to business\",\n",
        "    \"b2c\" : \"business to customer\",\n",
        "    \"b4\" : \"before\",\n",
        "    \"b4n\" : \"bye for now\",\n",
        "    \"b@u\" : \"back at you\",\n",
        "    \"bae\" : \"before anyone else\",\n",
        "    \"bak\" : \"back at keyboard\",\n",
        "    \"bbbg\" : \"bye bye be good\",\n",
        "    \"bbc\" : \"british broadcasting corporation\",\n",
        "    \"bbias\" : \"be back in a second\",\n",
        "    \"bbl\" : \"be back later\",\n",
        "    \"bbs\" : \"be back soon\",\n",
        "    \"be4\" : \"before\",\n",
        "    \"bfn\" : \"bye for now\",\n",
        "    \"blvd\" : \"boulevard\",\n",
        "    \"bout\" : \"about\",\n",
        "    \"brb\" : \"be right back\",\n",
        "    \"bros\" : \"brothers\",\n",
        "    \"brt\" : \"be right there\",\n",
        "    \"bsaaw\" : \"big smile and a wink\",\n",
        "    \"btw\" : \"by the way\",\n",
        "    \"bwl\" : \"bursting with laughter\",\n",
        "    \"c/o\" : \"care of\",\n",
        "    \"cet\" : \"central european time\",\n",
        "    \"cf\" : \"compare\",\n",
        "    \"cia\" : \"central intelligence agency\",\n",
        "    \"csl\" : \"can not stop laughing\",\n",
        "    \"cu\" : \"see you\",\n",
        "    \"cul8r\" : \"see you later\",\n",
        "    \"cv\" : \"curriculum vitae\",\n",
        "    \"cwot\" : \"complete waste of time\",\n",
        "    \"cya\" : \"see you\",\n",
        "    \"cyt\" : \"see you tomorrow\",\n",
        "    \"dae\" : \"does anyone else\",\n",
        "    \"dbmib\" : \"do not bother me i am busy\",\n",
        "    \"diy\" : \"do it yourself\",\n",
        "    \"dm\" : \"direct message\",\n",
        "    \"dwh\" : \"during work hours\",\n",
        "    \"e123\" : \"easy as one two three\",\n",
        "    \"eet\" : \"eastern european time\",\n",
        "    \"eg\" : \"example\",\n",
        "    \"embm\" : \"early morning business meeting\",\n",
        "    \"encl\" : \"enclosed\",\n",
        "    \"encl.\" : \"enclosed\",\n",
        "    \"etc\" : \"and so on\",\n",
        "    \"faq\" : \"frequently asked questions\",\n",
        "    \"fawc\" : \"for anyone who cares\",\n",
        "    \"fb\" : \"facebook\",\n",
        "    \"fc\" : \"fingers crossed\",\n",
        "    \"fig\" : \"figure\",\n",
        "    \"fimh\" : \"forever in my heart\",\n",
        "    \"ft.\" : \"feet\",\n",
        "    \"ft\" : \"featuring\",\n",
        "    \"ftl\" : \"for the loss\",\n",
        "    \"ftw\" : \"for the win\",\n",
        "    \"fwiw\" : \"for what it is worth\",\n",
        "    \"fyi\" : \"for your information\",\n",
        "    \"g9\" : \"genius\",\n",
        "    \"gahoy\" : \"get a hold of yourself\",\n",
        "    \"gal\" : \"get a life\",\n",
        "    \"gcse\" : \"general certificate of secondary education\",\n",
        "    \"gfn\" : \"gone for now\",\n",
        "    \"gg\" : \"good game\",\n",
        "    \"gl\" : \"good luck\",\n",
        "    \"glhf\" : \"good luck have fun\",\n",
        "    \"gmt\" : \"greenwich mean time\",\n",
        "    \"gmta\" : \"great minds think alike\",\n",
        "    \"gn\" : \"good night\",\n",
        "    \"g.o.a.t\" : \"greatest of all time\",\n",
        "    \"goat\" : \"greatest of all time\",\n",
        "    \"goi\" : \"get over it\",\n",
        "    \"gps\" : \"global positioning system\",\n",
        "    \"gr8\" : \"great\",\n",
        "    \"gratz\" : \"congratulations\",\n",
        "    \"gyal\" : \"girl\",\n",
        "    \"h&c\" : \"hot and cold\",\n",
        "    \"hp\" : \"horsepower\",\n",
        "    \"hr\" : \"hour\",\n",
        "    \"hrh\" : \"his royal highness\",\n",
        "    \"ht\" : \"height\",\n",
        "    \"ibrb\" : \"i will be right back\",\n",
        "    \"ic\" : \"i see\",\n",
        "    \"icq\" : \"i seek you\",\n",
        "    \"icymi\" : \"in case you missed it\",\n",
        "    \"idc\" : \"i do not care\",\n",
        "    \"idgadf\" : \"i do not give a damn fuck\",\n",
        "    \"idgaf\" : \"i do not give a fuck\",\n",
        "    \"idk\" : \"i do not know\",\n",
        "    \"ie\" : \"that is\",\n",
        "    \"i.e\" : \"that is\",\n",
        "    \"ifyp\" : \"i feel your pain\",\n",
        "    \"IG\" : \"instagram\",\n",
        "    \"iirc\" : \"if i remember correctly\",\n",
        "    \"ilu\" : \"i love you\",\n",
        "    \"ily\" : \"i love you\",\n",
        "    \"imho\" : \"in my humble opinion\",\n",
        "    \"imo\" : \"in my opinion\",\n",
        "    \"imu\" : \"i miss you\",\n",
        "    \"iow\" : \"in other words\",\n",
        "    \"irl\" : \"in real life\",\n",
        "    \"j4f\" : \"just for fun\",\n",
        "    \"jic\" : \"just in case\",\n",
        "    \"jk\" : \"just kidding\",\n",
        "    \"jsyk\" : \"just so you know\",\n",
        "    \"l8r\" : \"later\",\n",
        "    \"lb\" : \"pound\",\n",
        "    \"lbs\" : \"pounds\",\n",
        "    \"ldr\" : \"long distance relationship\",\n",
        "    \"lmao\" : \"laugh my ass off\",\n",
        "    \"lmfao\" : \"laugh my fucking ass off\",\n",
        "    \"lol\" : \"laughing out loud\",\n",
        "    \"ltd\" : \"limited\",\n",
        "    \"ltns\" : \"long time no see\",\n",
        "    \"m8\" : \"mate\",\n",
        "    \"mf\" : \"motherfucker\",\n",
        "    \"mfs\" : \"motherfuckers\",\n",
        "    \"mfw\" : \"my face when\",\n",
        "    \"mofo\" : \"motherfucker\",\n",
        "    \"mph\" : \"miles per hour\",\n",
        "    \"mr\" : \"mister\",\n",
        "    \"mrw\" : \"my reaction when\",\n",
        "    \"ms\" : \"miss\",\n",
        "    \"mte\" : \"my thoughts exactly\",\n",
        "    \"nagi\" : \"not a good idea\",\n",
        "    \"nbc\" : \"national broadcasting company\",\n",
        "    \"nbd\" : \"not big deal\",\n",
        "    \"nfs\" : \"not for sale\",\n",
        "    \"ngl\" : \"not going to lie\",\n",
        "    \"nhs\" : \"national health service\",\n",
        "    \"nrn\" : \"no reply necessary\",\n",
        "    \"nsfl\" : \"not safe for life\",\n",
        "    \"nsfw\" : \"not safe for work\",\n",
        "    \"nth\" : \"nice to have\",\n",
        "    \"nvr\" : \"never\",\n",
        "    \"nyc\" : \"new york city\",\n",
        "    \"oc\" : \"original content\",\n",
        "    \"og\" : \"original\",\n",
        "    \"ohp\" : \"overhead projector\",\n",
        "    \"oic\" : \"oh i see\",\n",
        "    \"omdb\" : \"over my dead body\",\n",
        "    \"omg\" : \"oh my god\",\n",
        "    \"omw\" : \"on my way\",\n",
        "    \"p.a\" : \"per annum\",\n",
        "    \"p.m\" : \"after midday\",\n",
        "    \"pm\" : \"prime minister\",\n",
        "    \"poc\" : \"people of color\",\n",
        "    \"pov\" : \"point of view\",\n",
        "    \"pp\" : \"pages\",\n",
        "    \"ppl\" : \"people\",\n",
        "    \"prw\" : \"parents are watching\",\n",
        "    \"ps\" : \"postscript\",\n",
        "    \"pt\" : \"point\",\n",
        "    \"ptb\" : \"please text back\",\n",
        "    \"pto\" : \"please turn over\",\n",
        "    \"qpsa\" : \"what happens\", #\"que pasa\",\n",
        "    \"ratchet\" : \"rude\",\n",
        "    \"rbtl\" : \"read between the lines\",\n",
        "    \"rlrt\" : \"real life retweet\",\n",
        "    \"rofl\" : \"rolling on the floor laughing\",\n",
        "    \"roflol\" : \"rolling on the floor laughing out loud\",\n",
        "    \"rotflmao\" : \"rolling on the floor laughing my ass off\",\n",
        "    \"rt\" : \"retweet\",\n",
        "    \"ruok\" : \"are you ok\",\n",
        "    \"sfw\" : \"safe for work\",\n",
        "    \"sk8\" : \"skate\",\n",
        "    \"smh\" : \"shake my head\",\n",
        "    \"sq\" : \"square\",\n",
        "    \"srsly\" : \"seriously\",\n",
        "    \"ssdd\" : \"same stuff different day\",\n",
        "    \"tbh\" : \"to be honest\",\n",
        "    \"tbs\" : \"tablespooful\",\n",
        "    \"tbsp\" : \"tablespooful\",\n",
        "    \"tfw\" : \"that feeling when\",\n",
        "    \"thks\" : \"thank you\",\n",
        "    \"tho\" : \"though\",\n",
        "    \"thx\" : \"thank you\",\n",
        "    \"tia\" : \"thanks in advance\",\n",
        "    \"til\" : \"today i learned\",\n",
        "    \"tl;dr\" : \"too long i did not read\",\n",
        "    \"tldr\" : \"too long i did not read\",\n",
        "    \"tmb\" : \"tweet me back\",\n",
        "    \"tntl\" : \"trying not to laugh\",\n",
        "    \"ttyl\" : \"talk to you later\",\n",
        "    \"u\" : \"you\",\n",
        "    \"u2\" : \"you too\",\n",
        "    \"u4e\" : \"yours for ever\",\n",
        "    \"utc\" : \"coordinated universal time\",\n",
        "    \"w/\" : \"with\",\n",
        "    \"w/o\" : \"without\",\n",
        "    \"w8\" : \"wait\",\n",
        "    \"wassup\" : \"what is up\",\n",
        "    \"wb\" : \"welcome back\",\n",
        "    \"wtf\" : \"what the fuck\",\n",
        "    \"wtg\" : \"way to go\",\n",
        "    \"wtpa\" : \"where the party at\",\n",
        "    \"wuf\" : \"where are you from\",\n",
        "    \"wuzup\" : \"what is up\",\n",
        "    \"wywh\" : \"wish you were here\",\n",
        "    \"yd\" : \"yard\",\n",
        "    \"ygtr\" : \"you got that right\",\n",
        "    \"ynk\" : \"you never know\",\n",
        "    \"zzz\" : \"sleeping bored and tired\"\n",
        "}\n",
        "\n",
        "\n",
        "def keys_upper(test_dict):\n",
        "  res = dict()\n",
        "  for key in test_dict.keys():\n",
        "        if isinstance(test_dict[key], dict):\n",
        "            res[key.upper()] = keys_upper(test_dict[key])\n",
        "        else:\n",
        "            res[key.upper()] = test_dict[key]\n",
        "  return res\n",
        "\n",
        "abbre = keys_upper(abbreviations)\n",
        "abbre\n"
      ]
    },
    {
      "cell_type": "code",
      "execution_count": null,
      "metadata": {
        "id": "DGcxiT8BKu6X"
      },
      "outputs": [],
      "source": [
        "def chat_conversion(text):\n",
        "    new_text=[]\n",
        "    for w in str(text).split():\n",
        "      if w.upper() in abbre:\n",
        "            new_text.append(abbre[w.upper()])\n",
        "      else:\n",
        "        new_text.append(w)\n",
        "    return \" \".join(new_text)\n",
        "\n",
        "#chat_conversion('@115716 What information is incorrect? ^JK')   #JK change to just kidding\n",
        "df['text'] = df['text'].apply(chat_conversion)"
      ]
    },
    {
      "cell_type": "code",
      "execution_count": null,
      "metadata": {
        "colab": {
          "base_uri": "https://localhost:8080/",
          "height": 35
        },
        "id": "QEIpA6LM4PUh",
        "outputId": "639bf77e-6176-4ee3-c9fe-d48eef055e8e"
      },
      "outputs": [
        {
          "data": {
            "application/vnd.google.colaboratory.intrinsic+json": {
              "type": "string"
            },
            "text/plain": [
              "'115716 What information is incorrect just kidding'"
            ]
          },
          "execution_count": 69,
          "metadata": {},
          "output_type": "execute_result"
        }
      ],
      "source": [
        "df['text'][15]"
      ]
    },
    {
      "cell_type": "markdown",
      "metadata": {
        "id": "CJs6SWPK6Kp6"
      },
      "source": [
        "**Convert all characters to lower case**"
      ]
    },
    {
      "cell_type": "code",
      "execution_count": null,
      "metadata": {
        "id": "m4Sk6uYZ5PYX"
      },
      "outputs": [],
      "source": [
        "df['text'] = df['text'].str.lower()"
      ]
    },
    {
      "cell_type": "markdown",
      "metadata": {
        "id": "kbtx68WWrfXf"
      },
      "source": [
        "**Remove numerical values**"
      ]
    },
    {
      "cell_type": "code",
      "execution_count": null,
      "metadata": {
        "id": "TaZlF8GOre7Y"
      },
      "outputs": [],
      "source": [
        "def remove_numbers(text):\n",
        "  filter_text = []\n",
        "  for word in text.split():\n",
        "    if not word.isdigit():\n",
        "      filter_text.append(word)\n",
        "    else :\n",
        "      pass\n",
        "  return ' '.join(filter_text)\n",
        "\n",
        "df['text'] = df['text'].apply(remove_numbers)"
      ]
    },
    {
      "cell_type": "code",
      "execution_count": null,
      "metadata": {
        "colab": {
          "base_uri": "https://localhost:8080/",
          "height": 35
        },
        "id": "f-HIIx0fst6I",
        "outputId": "c4dc31ca-74f5-4c12-ea48-db487b285853"
      },
      "outputs": [
        {
          "data": {
            "application/vnd.google.colaboratory.intrinsic+json": {
              "type": "string"
            },
            "text/plain": [
              "'what information is incorrect just kidding'"
            ]
          },
          "execution_count": 72,
          "metadata": {},
          "output_type": "execute_result"
        }
      ],
      "source": [
        "df['text'][15]"
      ]
    },
    {
      "cell_type": "markdown",
      "metadata": {
        "id": "q5PK4BvW8ugz"
      },
      "source": [
        "**Removing URLs**"
      ]
    },
    {
      "cell_type": "code",
      "execution_count": null,
      "metadata": {
        "id": "xciDjken7JMn"
      },
      "outputs": [],
      "source": [
        "def remove_url(text):\n",
        "    pattern=re.compile(r'https?://\\S+|www\\.\\S+')\n",
        "    return pattern.sub(\"\",text)"
      ]
    },
    {
      "cell_type": "code",
      "execution_count": null,
      "metadata": {
        "id": "eWFEJ2nC8xP7"
      },
      "outputs": [],
      "source": [
        "df['text']= df['text'].apply(remove_url)"
      ]
    },
    {
      "cell_type": "markdown",
      "metadata": {
        "id": "VC5JwASj9Anl"
      },
      "source": [
        "**Removing Stop words**"
      ]
    },
    {
      "cell_type": "code",
      "execution_count": null,
      "metadata": {
        "colab": {
          "base_uri": "https://localhost:8080/"
        },
        "id": "uNHa_zn39tSA",
        "outputId": "c15631c7-a3f2-440c-f802-d7e4a8cc9283"
      },
      "outputs": [
        {
          "name": "stderr",
          "output_type": "stream",
          "text": [
            "[nltk_data] Downloading package stopwords to /root/nltk_data...\n",
            "[nltk_data]   Package stopwords is already up-to-date!\n"
          ]
        },
        {
          "data": {
            "text/plain": [
              "True"
            ]
          },
          "execution_count": 75,
          "metadata": {},
          "output_type": "execute_result"
        }
      ],
      "source": [
        "nltk.download('stopwords')"
      ]
    },
    {
      "cell_type": "code",
      "execution_count": null,
      "metadata": {
        "id": "pOMdH8ne80TQ"
      },
      "outputs": [],
      "source": [
        "def remove_stopwords(text):\n",
        "    new_text=[]\n",
        "\n",
        "    for word in text.split():\n",
        "        if word in stopwords.words(\"english\"):\n",
        "            new_text.append(\"\")\n",
        "        else:\n",
        "            new_text.append(word.strip())\n",
        "\n",
        "\n",
        "    return \" \".join(new_text).replace(\"   \",\" \")"
      ]
    },
    {
      "cell_type": "code",
      "execution_count": null,
      "metadata": {
        "colab": {
          "background_save": true
        },
        "id": "x6zsqF_AOJr5"
      },
      "outputs": [],
      "source": [
        "df['text'] = df['text'].apply(remove_stopwords)"
      ]
    },
    {
      "cell_type": "code",
      "execution_count": null,
      "metadata": {
        "colab": {
          "background_save": true
        },
        "id": "ABCTb0LZQmIl"
      },
      "outputs": [],
      "source": [
        "def chat_conversion(text):\n",
        "    new_text=[]\n",
        "    for w in text.split():\n",
        "      if w.upper() in abbreviations:\n",
        "            new_text.append(abbreviations[w.upper()])\n",
        "      else:\n",
        "        new_text.append(w)\n",
        "    return \" \".join(new_text)\n",
        "\n"
      ]
    },
    {
      "cell_type": "code",
      "execution_count": null,
      "metadata": {
        "colab": {
          "background_save": true
        },
        "id": "e5Zr5aGGQvNv"
      },
      "outputs": [],
      "source": [
        "df['text_abb'] = df['text'].apply(lambda x: chat_conversion(x))"
      ]
    },
    {
      "cell_type": "code",
      "execution_count": null,
      "metadata": {
        "colab": {
          "background_save": true
        },
        "id": "T11RQwXgR3f7",
        "outputId": "ac739cb5-0718-4ab6-c0d2-3da395ae1162"
      },
      "outputs": [
        {
          "data": {
            "application/vnd.google.colaboratory.intrinsic+json": {
              "type": "string"
            },
            "text/plain": [
              "' information  incorrect  kidding'"
            ]
          },
          "execution_count": 80,
          "metadata": {},
          "output_type": "execute_result"
        }
      ],
      "source": [
        "df['text'][15]"
      ]
    },
    {
      "cell_type": "markdown",
      "metadata": {
        "id": "-jRhmWFms-wh"
      },
      "source": [
        "**Textifiy Emoji**"
      ]
    },
    {
      "cell_type": "code",
      "execution_count": null,
      "metadata": {
        "colab": {
          "background_save": true
        },
        "id": "gMJTR1whyDx4",
        "outputId": "b1f6094f-333a-4100-a7ab-87e635b4a8f0"
      },
      "outputs": [
        {
          "name": "stdout",
          "output_type": "stream",
          "text": [
            "Requirement already satisfied: emoji in /usr/local/lib/python3.10/dist-packages (2.10.1)\n"
          ]
        }
      ],
      "source": [
        "!pip install emoji"
      ]
    },
    {
      "cell_type": "code",
      "execution_count": null,
      "metadata": {
        "id": "9IFXjFRGSFrr"
      },
      "outputs": [],
      "source": [
        "import emoji\n",
        "def remove_emoji(text):\n",
        "    clean_text=emoji.demojize(text)\n",
        "    return clean_text"
      ]
    },
    {
      "cell_type": "code",
      "execution_count": null,
      "metadata": {
        "id": "9XeviEwWtFEu"
      },
      "outputs": [],
      "source": [
        "df['text'] = df['text'].apply(remove_emoji)"
      ]
    },
    {
      "cell_type": "markdown",
      "metadata": {
        "id": "K6-Iz0mezE9_"
      },
      "source": [
        "**Lemmetization**"
      ]
    },
    {
      "cell_type": "code",
      "execution_count": null,
      "metadata": {
        "colab": {
          "base_uri": "https://localhost:8080/"
        },
        "id": "kCO47HMntUxL",
        "outputId": "08f5f087-0820-42b5-d7de-1d63a5203a7c"
      },
      "outputs": [
        {
          "name": "stdout",
          "output_type": "stream",
          "text": [
            "rocks : stemmer\n"
          ]
        },
        {
          "name": "stderr",
          "output_type": "stream",
          "text": [
            "[nltk_data] Downloading package wordnet to /root/nltk_data...\n",
            "[nltk_data]   Package wordnet is already up-to-date!\n"
          ]
        }
      ],
      "source": [
        "nltk.download('wordnet')\n",
        "\n",
        "lemmatizer = WordNetLemmatizer()\n",
        "print(\"rocks :\", lemmatizer.lemmatize(\"stemmer\"))"
      ]
    },
    {
      "cell_type": "code",
      "execution_count": null,
      "metadata": {
        "colab": {
          "base_uri": "https://localhost:8080/",
          "height": 35
        },
        "id": "tVje1i7p1WmH",
        "outputId": "35b41b16-dde7-4069-804f-ca8c862c443e"
      },
      "outputs": [
        {
          "data": {
            "application/vnd.google.colaboratory.intrinsic+json": {
              "type": "string"
            },
            "text/plain": [
              "'adobecare yea ive done everything  guys told   know  mac either   retina imac fairly new'"
            ]
          },
          "execution_count": 47,
          "metadata": {},
          "output_type": "execute_result"
        }
      ],
      "source": [
        "df['text'][177]\n",
        "#adobecare yea ive done everything  guys told   know  mac either   retina imac fairly new\n",
        "\n",
        "#did not performed stemming as is was changing the abpve sentence to below, which according to me change the words a lot\n",
        "\n",
        "#adobecar yea ive done everyth guy told know mac either retina imac fairli new"
      ]
    },
    {
      "cell_type": "code",
      "execution_count": null,
      "metadata": {
        "id": "bbuzhWWrzaQo"
      },
      "outputs": [],
      "source": [
        "def lemmatize_txt(text):\n",
        "  words = text.split()\n",
        "  #stemmer = PorterStemmer()\n",
        "  lemmatizer = WordNetLemmatizer()\n",
        "  #lemmatized_word = (stemmer.stem(lemmatizer.lemmatize(word)) for word in words)\n",
        "  lemmatized_word = (lemmatizer.lemmatize(word) for word in words)\n",
        "  return ' '.join(lemmatized_word)\n",
        "\n",
        "df['text'] = df['text'].apply(lemmatize_txt)"
      ]
    },
    {
      "cell_type": "code",
      "execution_count": null,
      "metadata": {
        "colab": {
          "base_uri": "https://localhost:8080/",
          "height": 35
        },
        "id": "sc7rb8QG7Oo-",
        "outputId": "93feae31-121a-442a-f149-6cf2a0df42b1"
      },
      "outputs": [
        {
          "data": {
            "application/vnd.google.colaboratory.intrinsic+json": {
              "type": "string"
            },
            "text/plain": [
              "'adobecar yea ive done everyth guy told know mac either retina imac fairli new'"
            ]
          },
          "execution_count": 62,
          "metadata": {},
          "output_type": "execute_result"
        }
      ],
      "source": [
        "df['text'][177]"
      ]
    },
    {
      "cell_type": "code",
      "execution_count": null,
      "metadata": {
        "id": "-0teNc_p_C4t"
      },
      "outputs": [],
      "source": []
    }
  ],
  "metadata": {
    "accelerator": "GPU",
    "colab": {
      "provenance": [],
      "authorship_tag": "ABX9TyMoku1yWbDpJW1d2Tqwsvzq",
      "include_colab_link": true
    },
    "kernelspec": {
      "display_name": "Python 3",
      "name": "python3"
    },
    "language_info": {
      "name": "python"
    }
  },
  "nbformat": 4,
  "nbformat_minor": 0
}